{
 "cells": [
  {
   "attachments": {},
   "cell_type": "markdown",
   "metadata": {},
   "source": [
    "### List:\n",
    "* List is data structure that is the multable sequence used to store data.\n",
    "* iteratable through each item or value.\n",
    "* expandable or reducable size.\n",
    "* replacable item or value."
   ]
  },
  {
   "cell_type": "code",
   "execution_count": 8,
   "metadata": {},
   "outputs": [
    {
     "name": "stdout",
     "output_type": "stream",
     "text": [
      "x type:  <class 'list'>\n",
      "y type:  <class 'list'>\n"
     ]
    }
   ],
   "source": [
    "# Illustrate the usages of List\n",
    "# To create List:\n",
    "x = []\n",
    "y = list()\n",
    "print(\"x type: \", type(x))\n",
    "print(\"y type: \", type(y))"
   ]
  },
  {
   "cell_type": "code",
   "execution_count": 28,
   "metadata": {},
   "outputs": [
    {
     "name": "stdout",
     "output_type": "stream",
     "text": [
      "<class 'list'>\n",
      "[1, 2.1, 'a', (2-5j), True, [1, 2, 3], {'a': 2, 'b': 3}, {1, 2, 3}, (3, 3, 3)]\n"
     ]
    }
   ],
   "source": [
    "# List could store many types of object data: interger, float, string, complex, boolean, list, dict, set, tuple\n",
    "x = [1,2.1,'a',2-5j,True,[1,2,3],{'a':2,'b':3},{1,2,3},(3,3,3)]\n",
    "print(type(x))\n",
    "print(x)"
   ]
  },
  {
   "cell_type": "code",
   "execution_count": 37,
   "metadata": {},
   "outputs": [
    {
     "name": "stdout",
     "output_type": "stream",
     "text": [
      "x before append:  [1, 2, 3, 5, 8, 9, 0]\n",
      "x after append:  [1, 2, 3, 5, 8, 9, 0, 10]\n"
     ]
    }
   ],
   "source": [
    "# Methods list.append(): Add object to the end of the list.\n",
    "x = [1,2,3,5,8,9,0]\n",
    "print(\"x before append: \",x)\n",
    "x.append(10) # add 10 at the end of x\n",
    "print(\"x after append: \",x)"
   ]
  },
  {
   "cell_type": "code",
   "execution_count": 38,
   "metadata": {},
   "outputs": [
    {
     "name": "stdout",
     "output_type": "stream",
     "text": [
      "x before append:  [1, 2, 3, 5, 8, 9, 0]\n",
      "x after append:  []\n"
     ]
    }
   ],
   "source": [
    "# Methods list.clear(): Remove all items from list.\n",
    "x = [1,2,3,5,8,9,0]\n",
    "print(\"x before clear: \",x)\n",
    "x.clear() # remove all items in x\n",
    "print(\"x after clear: \",x)"
   ]
  },
  {
   "cell_type": "code",
   "execution_count": 50,
   "metadata": {},
   "outputs": [
    {
     "name": "stdout",
     "output_type": "stream",
     "text": [
      "x :  [1, 2, 3, 5, 8, 9, 0]\n",
      "y copy of x:  [1, 2, 3, 5, 8, 9, 0]\n",
      "y after append:  [1, 2, 3, 5, 8, 9, 0, 10]\n"
     ]
    }
   ],
   "source": [
    "# Methods list.copy(): Return a shallow copy of the list.\n",
    "x = [1,2,3,5,8,9,0]\n",
    "y = x.copy() # Copy all items in x\n",
    "print(\"x : \",x)\n",
    "print(\"y copy of x: \",y)\n",
    "y.append(10) # Add item to y that is not effect x\n",
    "print(\"y after append: \",y)"
   ]
  },
  {
   "cell_type": "code",
   "execution_count": 64,
   "metadata": {},
   "outputs": [
    {
     "name": "stdout",
     "output_type": "stream",
     "text": [
      "x before count:  [1, 2, 3, 5, 8, 9, 0]\n",
      "Number of 9 in x:  1\n"
     ]
    }
   ],
   "source": [
    "# Methods list.count(): Return number of occurrences of value.\n",
    "x = [1,2,3,5,8,9,0]\n",
    "print(\"x before count: \",x)\n",
    "n = x.count(9) # Count number 9 in x\n",
    "print(\"Number of 9 in x: \", n)"
   ]
  },
  {
   "cell_type": "code",
   "execution_count": 80,
   "metadata": {},
   "outputs": [
    {
     "name": "stdout",
     "output_type": "stream",
     "text": [
      "x before extend:  [1, 2, 3, 5, 8, 9, 0]\n",
      "x after extend:  [1, 2, 3, 5, 8, 9, 0, 1, 3]\n"
     ]
    }
   ],
   "source": [
    "# Methods list.extend(): Extend list by appending elements from the iterable.\n",
    "x = [1,2,3,5,8,9,0]\n",
    "print(\"x before extend: \",x)\n",
    "x.extend([1,3]) # add [1,3] into x\n",
    "print(\"x after extend: \", x)"
   ]
  },
  {
   "cell_type": "code",
   "execution_count": 86,
   "metadata": {},
   "outputs": [
    {
     "name": "stdout",
     "output_type": "stream",
     "text": [
      "x before index:  [1, 2, 3, 5, 8, 9, 0]\n",
      "Index 3 in x:  2\n"
     ]
    }
   ],
   "source": [
    "# Methods list.index(): Return first index of value.\n",
    "x = [1,2,3,5,8,9,0]\n",
    "print(\"x before index: \",x)\n",
    "i = x.index(3) # the first index of 3 in x\n",
    "print(\"Index 3 in x: \", i)"
   ]
  },
  {
   "cell_type": "code",
   "execution_count": 93,
   "metadata": {},
   "outputs": [
    {
     "name": "stdout",
     "output_type": "stream",
     "text": [
      "x before insert:  [1, 2, 3, 5, 8, 9, 0]\n",
      "x after insert:  [1, 2, 'A', 3, 5, 8, 9, 0]\n"
     ]
    }
   ],
   "source": [
    "# Methods list.insert(): Insert object before index.\n",
    "x = [1,2,3,5,8,9,0]\n",
    "print(\"x before insert: \",x)\n",
    "x.insert(2,'A') # add 'A' at index 2\n",
    "print(\"x after insert: \", x)"
   ]
  },
  {
   "cell_type": "code",
   "execution_count": 95,
   "metadata": {},
   "outputs": [
    {
     "name": "stdout",
     "output_type": "stream",
     "text": [
      "x before pop:  [1, 2, 3, 5, 8, 9, 0]\n",
      "x after pop:  [1, 2, 5, 8, 9, 0]\n"
     ]
    }
   ],
   "source": [
    "# Methods list.pop(): Remove and return item at index (default last).\n",
    "x = [1,2,3,5,8,9,0]\n",
    "print(\"x before pop: \",x)\n",
    "x.pop(2) # remove item at index 2 in x\n",
    "print(\"x after pop: \", x)"
   ]
  },
  {
   "cell_type": "code",
   "execution_count": 97,
   "metadata": {},
   "outputs": [
    {
     "name": "stdout",
     "output_type": "stream",
     "text": [
      "x before remove:  [1, 2, 3, 5, 8, 9, 0]\n",
      "x after remove:  [1, 3, 5, 8, 9, 0]\n"
     ]
    }
   ],
   "source": [
    "# Methods list.remove(): Remove first occurrence of value.\n",
    "x = [1,2,3,5,8,9,0]\n",
    "print(\"x before remove: \",x)\n",
    "x.remove(2) # remove the first value 2 in x \n",
    "print(\"x after remove: \", x)"
   ]
  },
  {
   "cell_type": "code",
   "execution_count": 100,
   "metadata": {},
   "outputs": [
    {
     "name": "stdout",
     "output_type": "stream",
     "text": [
      "x before reverse:  [1, 2, 3, 5, 8, 9, 0]\n",
      "x after reverse:  [0, 9, 8, 5, 3, 2, 1]\n"
     ]
    }
   ],
   "source": [
    "# Methods list.reverse(): Reverse positions in lists\n",
    "x = [1,2,3,5,8,9,0]\n",
    "print(\"x before reverse: \",x)\n",
    "x.reverse() # reverse positions in x\n",
    "print(\"x after reverse: \", x)"
   ]
  },
  {
   "cell_type": "code",
   "execution_count": 106,
   "metadata": {},
   "outputs": [
    {
     "name": "stdout",
     "output_type": "stream",
     "text": [
      "x before sort:  [1, 2, 3, 5, 8, 9, 0]\n",
      "x sorted ascending:  [0, 1, 2, 3, 5, 8, 9]\n",
      "x sorted descending:  [9, 8, 5, 3, 2, 1, 0]\n"
     ]
    }
   ],
   "source": [
    "# Methods list.sort(): Sort the list in as pre-determined order\n",
    "x = [1,2,3,5,8,9,0]\n",
    "print(\"x before sort: \",x)\n",
    "x.sort() # sort x as ascending order (default)\n",
    "print(\"x sorted ascending: \", x)\n",
    "x.sort(reverse=True) # sort x as descending order\n",
    "print(\"x sorted descending: \", x)"
   ]
  }
 ],
 "metadata": {
  "kernelspec": {
   "display_name": "Python 3",
   "language": "python",
   "name": "python3"
  },
  "language_info": {
   "codemirror_mode": {
    "name": "ipython",
    "version": 3
   },
   "file_extension": ".py",
   "mimetype": "text/x-python",
   "name": "python",
   "nbconvert_exporter": "python",
   "pygments_lexer": "ipython3",
   "version": "3.10.4"
  },
  "orig_nbformat": 4
 },
 "nbformat": 4,
 "nbformat_minor": 2
}
