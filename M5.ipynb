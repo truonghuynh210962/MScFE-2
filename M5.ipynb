{
 "cells": [
  {
   "cell_type": "code",
   "execution_count": 5,
   "metadata": {},
   "outputs": [
    {
     "name": "stdout",
     "output_type": "stream",
     "text": [
      "-0.786151377757423*I\n",
      "0.786151377757423*I\n",
      "-1.27201964951407\n",
      "1.27201964951407\n"
     ]
    }
   ],
   "source": [
    "import sympy as sp\n",
    "\n",
    "x = sp.Symbol('x')\n",
    "sol = sp.solve(x**4-x**2-1,x)\n",
    "for i in range(len(sol)):\n",
    "    print(sp.N(sol[i]))"
   ]
  },
  {
   "cell_type": "code",
   "execution_count": 12,
   "metadata": {},
   "outputs": [
    {
     "data": {
      "text/latex": [
       "$\\displaystyle 1.27201964951407$"
      ],
      "text/plain": [
       "1.27201964951407"
      ]
     },
     "execution_count": 12,
     "metadata": {},
     "output_type": "execute_result"
    }
   ],
   "source": [
    "x = sp.Symbol('x')\n",
    "sp.nsolve(x**4-x**2-1,x,5)"
   ]
  },
  {
   "cell_type": "code",
   "execution_count": 13,
   "metadata": {},
   "outputs": [
    {
     "name": "stdout",
     "output_type": "stream",
     "text": [
      "[1/3 + (-1/2 - sqrt(3)*I/2)*(sqrt(87)/9 + 28/27)**(1/3) + 1/(9*(-1/2 - sqrt(3)*I/2)*(sqrt(87)/9 + 28/27)**(1/3)), 1/3 + 1/(9*(-1/2 + sqrt(3)*I/2)*(sqrt(87)/9 + 28/27)**(1/3)) + (-1/2 + sqrt(3)*I/2)*(sqrt(87)/9 + 28/27)**(1/3), 1/(9*(sqrt(87)/9 + 28/27)**(1/3)) + 1/3 + (sqrt(87)/9 + 28/27)**(1/3)]\n"
     ]
    }
   ],
   "source": [
    "import sympy as sp\n",
    "x = sp.Symbol('x')\n",
    "ExactSoln = sp.solve(x**3 - x**2 - 2, x) # symbolic solution\n",
    "print(ExactSoln)"
   ]
  },
  {
   "attachments": {},
   "cell_type": "markdown",
   "metadata": {},
   "source": [
    "$$\\frac{1}{3} - \\frac{1}{2} \\sqrt{\\frac{3}{87}} i \\cdot \\sqrt[3]{\\frac{28}{27} + \\frac{\\sqrt{87}}{9}} - \\frac{1}{2} \\sqrt{\\frac{3}{87}} \\cdot \\sqrt[3]{\\frac{28}{27} + \\frac{\\sqrt{87}}{9}} + \\frac{1}{9 \\cdot \\left(-\\frac{1}{2} - \\sqrt{3}i \\cdot \\frac{1}{2} \\right) \\cdot \\sqrt[3]{\\frac{28}{27} + \\frac{\\sqrt{87}}{9}}}$$"
   ]
  },
  {
   "cell_type": "code",
   "execution_count": 34,
   "metadata": {},
   "outputs": [],
   "source": [
    "import sympy as sp\n",
    "x = sp.Symbol('x')\n",
    "Ex = sp.solve(x**3*sp.ln(x)-7,x)\n",
    "y = sp.N(Ex[0])"
   ]
  },
  {
   "attachments": {},
   "cell_type": "markdown",
   "metadata": {},
   "source": [
    "$$\n",
    "e^{\\frac{W(21)}{3}}\n",
    "$$"
   ]
  },
  {
   "cell_type": "code",
   "execution_count": 37,
   "metadata": {},
   "outputs": [
    {
     "name": "stdout",
     "output_type": "stream",
     "text": [
      "The Zen of Python, by Tim Peters\n",
      "\n",
      "Beautiful is better than ugly.\n",
      "Explicit is better than implicit.\n",
      "Simple is better than complex.\n",
      "Complex is better than complicated.\n",
      "Flat is better than nested.\n",
      "Sparse is better than dense.\n",
      "Readability counts.\n",
      "Special cases aren't special enough to break the rules.\n",
      "Although practicality beats purity.\n",
      "Errors should never pass silently.\n",
      "Unless explicitly silenced.\n",
      "In the face of ambiguity, refuse the temptation to guess.\n",
      "There should be one-- and preferably only one --obvious way to do it.\n",
      "Although that way may not be obvious at first unless you're Dutch.\n",
      "Now is better than never.\n",
      "Although never is often better than *right* now.\n",
      "If the implementation is hard to explain, it's a bad idea.\n",
      "If the implementation is easy to explain, it may be a good idea.\n",
      "Namespaces are one honking great idea -- let's do more of those!\n"
     ]
    }
   ],
   "source": [
    "import this"
   ]
  }
 ],
 "metadata": {
  "kernelspec": {
   "display_name": "Python 3",
   "language": "python",
   "name": "python3"
  },
  "language_info": {
   "codemirror_mode": {
    "name": "ipython",
    "version": 3
   },
   "file_extension": ".py",
   "mimetype": "text/x-python",
   "name": "python",
   "nbconvert_exporter": "python",
   "pygments_lexer": "ipython3",
   "version": "3.10.4"
  },
  "orig_nbformat": 4
 },
 "nbformat": 4,
 "nbformat_minor": 2
}
